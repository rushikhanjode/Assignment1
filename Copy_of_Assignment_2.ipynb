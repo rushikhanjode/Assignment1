{
  "nbformat": 4,
  "nbformat_minor": 0,
  "metadata": {
    "colab": {
      "provenance": [],
      "include_colab_link": true
    },
    "kernelspec": {
      "name": "python3",
      "display_name": "Python 3"
    },
    "language_info": {
      "name": "python"
    }
  },
  "cells": [
    {
      "cell_type": "markdown",
      "metadata": {
        "id": "view-in-github",
        "colab_type": "text"
      },
      "source": [
        "<a href=\"https://colab.research.google.com/github/rushikhanjode/Assignment1/blob/main/Copy_of_Assignment_2.ipynb\" target=\"_parent\"><img src=\"https://colab.research.google.com/assets/colab-badge.svg\" alt=\"Open In Colab\"/></a>"
      ]
    },
    {
      "cell_type": "markdown",
      "source": [
        "Q1. Write a Python program to find those numbers which are divisible by 7, 5 , 2 between 1500 and 2700 (both included).\n",
        "Take the range as(1500, 2701)"
      ],
      "metadata": {
        "id": "zlav2ssoFU7E"
      }
    },
    {
      "cell_type": "code",
      "execution_count": null,
      "metadata": {
        "colab": {
          "base_uri": "https://localhost:8080/"
        },
        "id": "TkvQPcJGFSpN",
        "outputId": "02348a4f-ca8e-46db-df28-b76aa2326f46"
      },
      "outputs": [
        {
          "output_type": "stream",
          "name": "stdout",
          "text": [
            "[1540, 1610, 1680, 1750, 1820, 1890, 1960, 2030, 2100, 2170, 2240, 2310, 2380, 2450, 2520, 2590, 2660]\n"
          ]
        }
      ],
      "source": [
        "divisible_nums=[]\n",
        "for i in range(1500,2700,1):\n",
        "  if(i%7==0 and i%5==0 and i%2==0):\n",
        "    divisible_nums.append(i)\n",
        "print(divisible_nums)\n"
      ]
    },
    {
      "cell_type": "markdown",
      "source": [
        "Q2. 2. Write a Python program that accepts a word from the user and reverse it. \n",
        "Sample Output:\n",
        "Input a word to reverse: one\n",
        "Eno"
      ],
      "metadata": {
        "id": "8gp4QRsGG7Bn"
      }
    },
    {
      "cell_type": "code",
      "source": [
        "print(\"Enter a word\")\n",
        "word=str(input())\n",
        "print(word [::-1])\n",
        "\n"
      ],
      "metadata": {
        "colab": {
          "base_uri": "https://localhost:8080/"
        },
        "id": "KNrkhZljGNR5",
        "outputId": "b02779e3-9deb-41e5-b0ff-fb8b60352b41"
      },
      "execution_count": null,
      "outputs": [
        {
          "output_type": "stream",
          "name": "stdout",
          "text": [
            "Enter a word\n",
            "test\n",
            "tset\n"
          ]
        }
      ]
    },
    {
      "cell_type": "markdown",
      "source": [
        "Q3. Write a Python program to count the number of even,odd and prime numbers from a series of numbers.\n",
        "Sample numbers : numbers = (1, 2, 30, 4, 5, 67, 7, 8, 9) \n",
        "Expected Output :\n",
        "Number of even numbers : 4\n",
        "Number of odd numbers : 5\n",
        "Number of prime numbers: 4\n"
      ],
      "metadata": {
        "id": "fqgl2Fo9Jrod"
      }
    },
    {
      "cell_type": "code",
      "source": [
        "from math import sqrt\n",
        "numbers= (1, 2, 30, 4, 5, 67, 7, 8, 9) \n",
        "odd_count=0\n",
        "even_count=0\n",
        "prime_count=0\n",
        "for i in range (0,len(numbers),1):\n",
        "  if(numbers[i]%2==0):\n",
        "    even_count+=1\n",
        "  elif(numbers[i]%2!=0):\n",
        "    odd_count+=1\n",
        "for i in range (0,len(numbers),1):\n",
        "  n=numbers[i]\n",
        "  prime_flag=0\n",
        "  if n>1:\n",
        "    for i in range(2, int(sqrt(n)) + 1):\n",
        "        if (n % i == 0):\n",
        "            prime_flag = 1\n",
        "    if (prime_flag == 0):\n",
        "        prime_count+=1\n",
        "    else:\n",
        "        pass\n",
        "print(\"Number of even numbers:\", even_count)\n",
        "print(\"Number of odd numbers:\", odd_count)\n",
        "print(\"Number of prime numbers:\", prime_count)\n"
      ],
      "metadata": {
        "colab": {
          "base_uri": "https://localhost:8080/"
        },
        "id": "YjoUrGE-Ha2e",
        "outputId": "360618cf-51bb-4294-f4ad-a68d22fc1a52"
      },
      "execution_count": null,
      "outputs": [
        {
          "output_type": "stream",
          "name": "stdout",
          "text": [
            "Number of even numbers: 4\n",
            "Number of odd numbers: 5\n",
            "Number of prime numbers: 4\n"
          ]
        }
      ]
    },
    {
      "cell_type": "markdown",
      "source": [
        "Q4. Write a Python program that prints all the numbers from 0 to 6 except 3 and 6.\n",
        "Note : Use 'continue' statement.\n",
        "Expected Output : 0 1 2 4 5\n"
      ],
      "metadata": {
        "id": "ck6s5G2zR-Lu"
      }
    },
    {
      "cell_type": "code",
      "source": [
        "for i in range (0,7):\n",
        "  if(i!=3 and i!=6):\n",
        "    print(i)\n",
        "  else:\n",
        "    continue"
      ],
      "metadata": {
        "colab": {
          "base_uri": "https://localhost:8080/"
        },
        "id": "501RxHBDKEOQ",
        "outputId": "b8abd315-8c93-4e21-8e5d-f02588c92bc9"
      },
      "execution_count": null,
      "outputs": [
        {
          "output_type": "stream",
          "name": "stdout",
          "text": [
            "0\n",
            "1\n",
            "2\n",
            "4\n",
            "5\n"
          ]
        }
      ]
    },
    {
      "cell_type": "markdown",
      "source": [
        "Q5. Write a Python program to calculate the area and volume of a cylinder"
      ],
      "metadata": {
        "id": "vRetViQ9S78X"
      }
    },
    {
      "cell_type": "code",
      "source": [
        "print(\"Enter Radius of cylinder: \")\n",
        "r=float(input())\n",
        "print(\"Enter Height of cylinder: \")\n",
        "h=float(input())\n",
        "pi=22/7\n",
        "area= (2*pi*r*h) + (2*pi*r**2)\n",
        "\n",
        "print(\"Area of Cylinder is: \", area)"
      ],
      "metadata": {
        "colab": {
          "base_uri": "https://localhost:8080/"
        },
        "id": "L-ez3cMrSLUF",
        "outputId": "e28b7ffe-de20-4140-c616-fcf415f0e383"
      },
      "execution_count": null,
      "outputs": [
        {
          "output_type": "stream",
          "name": "stdout",
          "text": [
            "Enter Radius of cylinder: \n",
            "5\n",
            "Enter Height of cylinder: \n",
            "3\n",
            "Area of Cylinder is:  251.42857142857142\n"
          ]
        }
      ]
    },
    {
      "cell_type": "markdown",
      "source": [
        "Q6. Write a Python program which accepts the user's first and last name and print them in reverse order with a space between them\n",
        "E.g. \n",
        "input - Adam Samuel\n",
        "Output - madA leumaS \n"
      ],
      "metadata": {
        "id": "QXLCN8_NXKCB"
      }
    },
    {
      "cell_type": "code",
      "source": [
        "print(\"Enter first name: \")\n",
        "f_name=str(input())\n",
        "print(\"Enter last name: \")\n",
        "l_name=str(input())\n",
        "\n",
        "print(f_name [::-1], l_name [::-1])"
      ],
      "metadata": {
        "colab": {
          "base_uri": "https://localhost:8080/"
        },
        "id": "u8C3kQfiTnUQ",
        "outputId": "e7409288-5f99-4f05-946f-7d0adf2fb094"
      },
      "execution_count": null,
      "outputs": [
        {
          "output_type": "stream",
          "name": "stdout",
          "text": [
            "Enter first name: \n",
            "First \n",
            "Enter last name: \n",
            "Name\n",
            " tsriF emaN\n"
          ]
        }
      ]
    },
    {
      "cell_type": "markdown",
      "source": [
        "Q7. Write a Python program that accepts an integer (n) and computes the value of n+nn+nnn.\n",
        "Sample value of n is 2\n",
        "Expected Result :246  (2+22+222)\n"
      ],
      "metadata": {
        "id": "XYuCfqCQYHg_"
      }
    },
    {
      "cell_type": "code",
      "source": [
        "print(\"Enter a integer (n): \", end=\"\")\n",
        "num=str(input())\n",
        "num2=num+num\n",
        "num3=num2+num\n",
        "res=int(num)+int(num2)+int(num3)\n",
        "print(res)\n",
        "\n",
        "#Seocond approach can be indirect with multiplying the base value with 11 & 111 to get the doubble or triple digit number as follows\n",
        "print(\"Enter a number (n): \", end=\"\")\n",
        "num=int(input())\n",
        "result=(num)+(num*11)+(num*111)\n",
        "print(result)\n"
      ],
      "metadata": {
        "colab": {
          "base_uri": "https://localhost:8080/"
        },
        "id": "gPtPBwk6XnL9",
        "outputId": "c46a2494-deaf-480f-fced-ce0efd197e20"
      },
      "execution_count": null,
      "outputs": [
        {
          "output_type": "stream",
          "name": "stdout",
          "text": [
            "Enter a integer (n): 2\n",
            "246\n",
            "Enter a number (n): 2\n",
            "246\n"
          ]
        }
      ]
    },
    {
      "cell_type": "markdown",
      "source": [
        "Q8. Write a Python program to compute the distance between the points \n",
        "(x1, y1,z1) and (x2, y2,z2).\n"
      ],
      "metadata": {
        "id": "A2cwFEKyZ0Xs"
      }
    },
    {
      "cell_type": "code",
      "source": [
        "import math\n",
        "x=(1,2,3)\n",
        "y=(4,5,6)\n",
        "\n",
        "print(\"Distance between given points is: \", math.dist(x,y))"
      ],
      "metadata": {
        "colab": {
          "base_uri": "https://localhost:8080/"
        },
        "id": "WPCMCm33YlrW",
        "outputId": "14525bd2-3a28-4bc2-9a48-3b8ee6fb8949"
      },
      "execution_count": null,
      "outputs": [
        {
          "output_type": "stream",
          "name": "stdout",
          "text": [
            "Distance between given points is:  5.196152422706632\n"
          ]
        }
      ]
    },
    {
      "cell_type": "markdown",
      "source": [
        "Q9. Write a Python program to count the number occurrence of a specific character in a string"
      ],
      "metadata": {
        "id": "YKQkcL-HanWm"
      }
    },
    {
      "cell_type": "code",
      "source": [
        "print(\"Enter a string: \")\n",
        "ip_string=str(input())\n",
        "count=0\n",
        "print(\"Enter the character you want to check: \")\n",
        "chk=str(input())\n",
        "\n",
        "for i in range(0,len(ip_string),1):\n",
        "  if(ip_string[i]==chk):\n",
        "    count+=1\n",
        "  else:\n",
        "    pass\n",
        "print(\"The given character occured {} times\" .format(count))"
      ],
      "metadata": {
        "colab": {
          "base_uri": "https://localhost:8080/"
        },
        "id": "39z9i2z7aX1M",
        "outputId": "bf5d8770-2a5e-4659-e6c1-506842610bf4"
      },
      "execution_count": null,
      "outputs": [
        {
          "output_type": "stream",
          "name": "stdout",
          "text": [
            "Enter a string: \n",
            "test\n",
            "Enter the character you want to check: \n",
            "t\n",
            "The given character occured 2 times\n"
          ]
        }
      ]
    },
    {
      "cell_type": "markdown",
      "source": [
        "Q10. Write a Python program to remove and print every third consecutive number from a list."
      ],
      "metadata": {
        "id": "QHxbUguDcRGQ"
      }
    },
    {
      "cell_type": "code",
      "source": [
        "sample=[1,2,3,4,5,6,7,8,9,10,11,12,13,14,15,16,17,18,19,20]\n",
        "\n",
        "print(sample[2::3])\n",
        "del sample[2::3]\n",
        "print(sample)"
      ],
      "metadata": {
        "colab": {
          "base_uri": "https://localhost:8080/"
        },
        "id": "VlEwQBsyb_yx",
        "outputId": "ae337d07-cc2b-4a88-d22c-9f6c3c2fe7e4"
      },
      "execution_count": null,
      "outputs": [
        {
          "output_type": "stream",
          "name": "stdout",
          "text": [
            "[3, 6, 9, 12, 15, 18]\n",
            "[1, 2, 4, 5, 7, 8, 10, 11, 13, 14, 16, 17, 19, 20]\n"
          ]
        }
      ]
    },
    {
      "cell_type": "markdown",
      "source": [
        "Q11. Given sample integers below:\\\\\n",
        "12345\n",
        "90213\n",
        "123456\n",
        "WAP such that the code produces below output :\n",
        "(Print 1st digit + last digit + 2nd digit + 2nd last digit + …so on)\n",
        "15243\n",
        "93012\n",
        "162534\n"
      ],
      "metadata": {
        "id": "waN9zqIhxML2"
      }
    },
    {
      "cell_type": "code",
      "source": [
        "print(\"Enter a number\")\n",
        "num=input()\n",
        "strnum= str(num)\n",
        "#to initiate reverse iterator\n",
        "r_itr=-1\n",
        "#to stop reverse iterator\n",
        "stop=((int(len(strnum)+1))/2)\n",
        "\n",
        "rev_num_str=\"\"\n",
        "\n",
        "for i in range(0,int((int(len(strnum)+1))/2)+1):\n",
        "  #to equally run the forward and opposite index\n",
        "    if(abs(r_itr) < (int(len(strnum)+1))/2+1 and abs(r_itr)<=stop): \n",
        "      rev_num_str=rev_num_str+strnum[i]\n",
        "     \n",
        "      if(abs(r_itr)!=stop): #to avoid the last negative index value to print\n",
        "        rev_num_str=rev_num_str+strnum[r_itr]\n",
        "\n",
        "    i+=1\n",
        "    r_itr-=1\n",
        "\n",
        "rev_num=int(rev_num_str)\n",
        "print(\"Reverse of the number is: \", rev_num)"
      ],
      "metadata": {
        "id": "J94Geop0cxJN",
        "colab": {
          "base_uri": "https://localhost:8080/"
        },
        "outputId": "152e40d4-7ae1-438a-8f78-b36471d58dc4"
      },
      "execution_count": null,
      "outputs": [
        {
          "output_type": "stream",
          "name": "stdout",
          "text": [
            "Enter a number\n",
            "12345\n",
            "Reverse of the number is:  15243\n"
          ]
        }
      ]
    },
    {
      "cell_type": "markdown",
      "source": [
        "Q12. Check if an integer entered by user is palindrome or not."
      ],
      "metadata": {
        "id": "rQdb5nRO3Qyn"
      }
    },
    {
      "cell_type": "code",
      "source": [
        "print(\"Enter a number: \")\n",
        "num=int(input())\n",
        "temp=num\n",
        "reverse=0\n",
        "\n",
        "while(temp>0):\n",
        "  digit=temp%10\n",
        "  reverse=reverse*10+digit\n",
        "  temp=temp//10\n",
        "if(num==reverse):\n",
        "  print(\"given number is palinedrome\")\n",
        "else:\n",
        "  print(\"given number is not palindrome\")"
      ],
      "metadata": {
        "colab": {
          "base_uri": "https://localhost:8080/"
        },
        "id": "pKlNcHFu047_",
        "outputId": "1e708a44-6b30-4328-aa0f-8d13c84597b4"
      },
      "execution_count": null,
      "outputs": [
        {
          "output_type": "stream",
          "name": "stdout",
          "text": [
            "Enter a number: \n",
            "12321\n",
            "given number is palinedrome\n"
          ]
        }
      ]
    },
    {
      "cell_type": "markdown",
      "source": [
        "Q13. Write a program to print number  in words \n",
        "\tE.g  1976 : One thousand nine hundred seventy six\n",
        "\t\t641: Six Hundred Forty One"
      ],
      "metadata": {
        "id": "Lpwx9UJ25iMu"
      }
    },
    {
      "cell_type": "code",
      "source": [
        "print(\"enter a number: \", end=\"\")\n",
        "number=int(input())\n",
        "if(number<=20999):\n",
        "  pass\n",
        "else:\n",
        "  print(\"Number should not exceed 20999\")\n",
        "  exit()\n",
        "nums={1:'one', 2:'two', 3:'three', 4:'four', 5:'five', 6:'six', 7:'seven', 8:'eight', 9:'nine', 10:'ten', 11:'eleven', 12:'twelve', 13:'thirteen', 14:'fourteen', 15:'fifteen', 16:'sixteen', 17:'seventeen', 18:'eighteen', 19:'nineteen', 20:'twenty', 30:'thirty', 40:'forty', 50:'fifty', 60:'sixty', 70:'seventy', 80:'eighty', 90:'ninety'}\n",
        "hundred= 100\n",
        "thousand = 1000\n",
        "temp=number\n",
        "while (temp>0):\n",
        "  if(temp < 20):\n",
        "    print(nums[temp], end=\"\")\n",
        "    break\n",
        "  elif(temp<100):\n",
        "    print(nums[temp-temp%10]+ \" \", end=\"\")\n",
        "    temp=temp%10\n",
        "   \n",
        "  elif(temp<1000):\n",
        "    print(nums[int(temp/100)]+\" hundred \", end=\"\")\n",
        "    temp=temp%100\n",
        "\n",
        "  elif(temp<21000):\n",
        "    print(nums[int(temp/1000)]+\" thousand \", end=\"\")\n",
        "    temp=temp%1000\n",
        "  else:\n",
        "    break\n",
        "\n",
        "\n",
        "    \n"
      ],
      "metadata": {
        "id": "DuwIVBuT31Yj",
        "colab": {
          "base_uri": "https://localhost:8080/"
        },
        "outputId": "a8ae91ca-1fcd-4b71-8297-9f3a0e1b51be"
      },
      "execution_count": null,
      "outputs": [
        {
          "output_type": "stream",
          "name": "stdout",
          "text": [
            "enter a number: 20999\n",
            "twenty thousand nine hundred ninety nine"
          ]
        }
      ]
    },
    {
      "cell_type": "markdown",
      "source": [
        "Q14. Swap two numbers using the third variable and without using the third variable. \n",
        "\tTake choice from user 1-for with third variable 2-for without third variable\n"
      ],
      "metadata": {
        "id": "0NZ9E7Yi8hsK"
      }
    },
    {
      "cell_type": "code",
      "source": [
        "print(\"Enter first number\")\n",
        "int1=int(input())\n",
        "print(\"Enter second number\")\n",
        "int2=int(input())\n",
        "\n",
        "print(\"Which method you want to use 1. Using third variable 2. without using third variable\")\n",
        "choice=int(input())\n",
        "\n",
        "#using third variable\n",
        "if (choice==1):\n",
        "  print(\"Before swap\", int1, int2)\n",
        "\n",
        "  temp=int2\n",
        "  int2=int1\n",
        "  int1=temp\n",
        "\n",
        "  print(\"After swap\", int1, int2)\n",
        "elif(choice==2):\n",
        "\n",
        "#Without using 3rd variable\n",
        "  print(\"Before swap\", int1, int2)\n",
        "\n",
        "  int1, int2=int2, int1\n",
        "\n",
        "  print(\"After swap\", int1, int2)\n",
        "  \n",
        "#not valid input\n",
        "else:\n",
        "  print(\"Not valid input\")"
      ],
      "metadata": {
        "id": "7Um6lAPm6VEC",
        "colab": {
          "base_uri": "https://localhost:8080/"
        },
        "outputId": "0dfaad4f-187c-47d7-9314-2aa1eeb6e8d4"
      },
      "execution_count": null,
      "outputs": [
        {
          "output_type": "stream",
          "name": "stdout",
          "text": [
            "Enter first number\n",
            "5\n",
            "Enter second number\n",
            "8\n",
            "Which method you want to use 1. Using third variable 2. without using third variable\n",
            "1\n",
            "Before swap 5 8\n",
            "After swap 8 5\n"
          ]
        }
      ]
    },
    {
      "cell_type": "markdown",
      "source": [
        "Q15. Take string value from user as :\n",
        " \"Hi,My Name is Abc.\"  \n",
        "convert it into \"HI,MY NAME IS ABC\" and \"hi,my name is abc.\"\n",
        "without using the inbuilt function. \n"
      ],
      "metadata": {
        "id": "djOZNcIL9-YQ"
      }
    },
    {
      "cell_type": "code",
      "source": [
        "print(\"enter a string in upper case\")\n",
        "og_string=str(input())\n",
        "l_string=\"\"\n",
        "itr=0\n",
        "while(og_string[itr:]):\n",
        "  #Using ASCII values to convert to lower case\n",
        "  char=ord(og_string[itr])\n",
        "  #Filtering alphabets\n",
        "  if (char>64 and char<91):\n",
        "    l_string+= chr(char+32)\n",
        "  #speacial characters or numbers\n",
        "  else:\n",
        "    l_string+= chr(char)\n",
        "  itr+=1\n",
        "\n",
        "print(\"The given string in lowercase is: \", l_string)\n",
        "\n"
      ],
      "metadata": {
        "colab": {
          "base_uri": "https://localhost:8080/"
        },
        "id": "jndHaahI9DhZ",
        "outputId": "a57b1e3a-5b32-4649-c6e7-713536da50fb"
      },
      "execution_count": null,
      "outputs": [
        {
          "output_type": "stream",
          "name": "stdout",
          "text": [
            "enter a string in upper case\n",
            "HELLO I AM ROBO\n",
            "The given string in lowercase is:  hello i am robo\n"
          ]
        }
      ]
    },
    {
      "cell_type": "markdown",
      "source": [
        "Q16. Check entered year is leap year or not using logical operato"
      ],
      "metadata": {
        "id": "SdoVRMZZBTMi"
      }
    },
    {
      "cell_type": "code",
      "source": [
        "print(\"Enter year: \")\n",
        "year=int(input())\n",
        "\n",
        "if(year % 4 == 0):\n",
        "  if(year % 100 ==0 ):\n",
        "    if(year % 400 == 0):\n",
        "      print(\"It's a leap year\")\n",
        "    else:\n",
        "      print(\"It's not a leap year\")\n",
        "  else:\n",
        "    print(\"It's not a leap year\")\n",
        "else:\n",
        "  print(\"It's not a leap year\")"
      ],
      "metadata": {
        "colab": {
          "base_uri": "https://localhost:8080/"
        },
        "id": "tJZKARGI-lYC",
        "outputId": "b0a45d58-e5bf-4bfe-a7f7-8564d641c4a1"
      },
      "execution_count": null,
      "outputs": [
        {
          "output_type": "stream",
          "name": "stdout",
          "text": [
            "Enter year: \n",
            "2000\n",
            "It's a leap year\n"
          ]
        }
      ]
    },
    {
      "cell_type": "markdown",
      "source": [
        "Q17. 17. count the number of digits and number of alphabets in the string.\n",
        "\te.g \t\t\tPune - 412203\n",
        "\t\t\t\tMaharashtra.\n",
        "\t\n",
        "\tTotal Digits: 6\n",
        "\tTotal alphabets: 15\n",
        "\tSpecial Characters: 1\n",
        "\tWhite Spaces: 2\n",
        "\tNumber of Lines: 2"
      ],
      "metadata": {
        "id": "t-PBxvyzF70Q"
      }
    },
    {
      "cell_type": "code",
      "source": [
        "digits=0\n",
        "alpha=0\n",
        "s_chars=0\n",
        "spaces=0\n",
        "lines=0\n",
        "itr=0\n",
        "sample=\"\"\"Pune - 412203\n",
        "\t\t\t\tMaharashtra.\"\"\"\n",
        "\n",
        "lines=sample.count(\"\\n\")+1\n",
        "\n",
        "\n",
        "while(sample[itr:]):\n",
        "  #Using ASCII values to convert to lower case\n",
        "  char=ord(sample[itr])\n",
        "  \n",
        "  #Counting alphabets\n",
        "  if (char>64 and char<91) or (char >96 and char < 123):\n",
        "    alpha+=1\n",
        "  #counting whitespaces\n",
        "  elif(chr(char) == \" \"):\n",
        "    spaces+=1\n",
        "  #Counting numbers\n",
        "  elif (char > 47 and char < 58):\n",
        "    digits+=1\n",
        "  #speacial characters \n",
        "  elif((char >31 and char <48) or (char > 57 and char <65) or (char > 90 and char < 97) or (char > 122 and char <127)):\n",
        "    s_chars+=1\n",
        "    \n",
        "  itr+=1\n",
        "\n",
        "print(\"Total Digits: \", digits)\n",
        "print(\"Total Alphabets: \", alpha)\n",
        "print(\"Special Characters\", s_chars)\n",
        "print(\"White spaces\", spaces)\n",
        "print(\"Number of lines\", lines)"
      ],
      "metadata": {
        "colab": {
          "base_uri": "https://localhost:8080/"
        },
        "id": "cKhuPDWuDzKc",
        "outputId": "5126fa9a-f967-43a2-91e3-51c03fa45402"
      },
      "execution_count": null,
      "outputs": [
        {
          "output_type": "stream",
          "name": "stdout",
          "text": [
            "Total Digits:  6\n",
            "Total Alphabets:  15\n",
            "Special Characters 2\n",
            "White spaces 2\n",
            "Number of lines 2\n"
          ]
        }
      ]
    }
  ]
}